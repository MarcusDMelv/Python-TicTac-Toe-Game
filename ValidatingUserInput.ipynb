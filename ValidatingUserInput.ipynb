{
 "cells": [
  {
   "cell_type": "markdown",
   "metadata": {
    "collapsed": false
   },
   "source": [
    "Validating user input to avoid errors for invalid conversions\n",
    "\n"
   ]
  },
  {
   "cell_type": "code",
   "execution_count": 1,
   "metadata": {
    "collapsed": false
   },
   "outputs": [
   ],
   "source": [
    "# if user provides an input that isnt correct for conversion we will get an error - using a while loop\n",
    "# keep looping \n",
    "\n",
    "def user_choice():\n",
    "    choice = int(input('Please enter a number between 0-10:\\n'))\n",
    "    return choice"
   ]
  },
  {
   "cell_type": "code",
   "execution_count": 37,
   "metadata": {
    "collapsed": false
   },
   "outputs": [
   ],
   "source": [
    "# need to regulate users input 0-10 and needs to be an int\n",
    "# check data type is valid\n",
    "# check users input\n",
    "def user_choice():\n",
    "    # variables\n",
    "    choice = 'WRONG' # start with a default value - start with wrong choice / we want a int\n",
    "    acceptable_values = range(0,10) # create a var that are acceptable values for user\n",
    "    within_range = False\n",
    "    #Two conditions checks\n",
    "    # - Digit & Range\n",
    "    while choice.isdigit() == False or within_range == False: # while choice is not a digit or digit not in range\n",
    "         choice = input('Please enter a number between 0-10:\\n') # ask for input\n",
    "         if choice.isdigit() == False: # error message for user\n",
    "            print(f'Please enter a number not \"{choice}\"') # remind the user what program needs and display what they pick\n",
    "         if choice.isdigit():\n",
    "            if int(choice) in acceptable_values: # check if user input is in list - if yes then within_range is true\n",
    "                within_range = True\n",
    "            else:\n",
    "                 print(f'Please enter a number in between 0-10 you entered -> \"{choice}\"') # print error to user\n",
    "                 within_range = False\n",
    "    return int(choice)"
   ]
  },
  {
   "cell_type": "code",
   "execution_count": 38,
   "metadata": {
    "cocalc": {
     "outputs": {
      "0": {
       "name": "input",
       "opts": {
        "password": false,
        "prompt": "Please enter a number between 0-10:\n"
       },
       "output_type": "stream",
       "value": "22"
      },
      "2": {
       "name": "input",
       "opts": {
        "password": false,
        "prompt": "Please enter a number between 0-10:\n"
       },
       "output_type": "stream",
       "value": "3"
      }
     }
    },
    "collapsed": false
   },
   "outputs": [
    {
     "name": "stdout",
     "output_type": "stream",
     "text": "Please enter a number between 0-10:\n 22"
    },
    {
     "name": "stdout",
     "output_type": "stream",
     "text": [
      "Please enter a number in between 0-10 you entered -> \"22\"\n"
     ]
    },
    {
     "name": "stdout",
     "output_type": "stream",
     "text": "Please enter a number between 0-10:\n 3"
    },
    {
     "data": {
      "text/plain": [
       "3"
      ]
     },
     "execution_count": 38,
     "metadata": {
     },
     "output_type": "execute_result"
    }
   ],
   "source": [
    "user_choice()"
   ]
  },
  {
   "cell_type": "code",
   "execution_count": 0,
   "metadata": {
    "collapsed": false
   },
   "outputs": [
   ],
   "source": [
   ]
  }
 ],
 "metadata": {
  "kernelspec": {
   "display_name": "Python 3 (system-wide)",
   "language": "python",
   "metadata": {
    "cocalc": {
     "description": "Python 3 programming language",
     "priority": 100,
     "url": "https://www.python.org/"
    }
   },
   "name": "python3",
   "resource_dir": "/ext/jupyter/kernels/python3"
  },
  "language_info": {
   "codemirror_mode": {
    "name": "ipython",
    "version": 3
   },
   "file_extension": ".py",
   "mimetype": "text/x-python",
   "name": "python",
   "nbconvert_exporter": "python",
   "pygments_lexer": "ipython3",
   "version": "3.8.10"
  }
 },
 "nbformat": 4,
 "nbformat_minor": 4
}