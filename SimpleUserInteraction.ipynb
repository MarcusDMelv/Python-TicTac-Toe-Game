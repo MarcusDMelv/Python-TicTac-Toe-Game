{
 "cells": [
  {
   "cell_type": "markdown",
   "metadata": {
    "collapsed": false
   },
   "source": [
    "Putting everything together , creating a simple interactive program\n",
    "\n",
    "This program will:\n",
    "\n",
    "Display a list\n",
    "\n",
    "Have a user choose an index position and an input value\n",
    "\n",
    "Replace value at index position with users chosen input value - exit out game at anytime"
   ]
  },
  {
   "cell_type": "code",
   "execution_count": 1,
   "metadata": {
    "collapsed": false
   },
   "outputs": [
   ],
   "source": [
    "# display function - display game list\n",
    "game_list = [0,1,2]\n",
    "\n",
    "def display_game(game_list):\n",
    "    print(f'Here is the current list:\\n{game_list}')"
   ]
  },
  {
   "cell_type": "code",
   "execution_count": 4,
   "metadata": {
    "collapsed": false
   },
   "outputs": [
    {
     "name": "stdout",
     "output_type": "stream",
     "text": [
      "Here is the current list:\n",
      "[0, 1, 2]\n"
     ]
    }
   ],
   "source": [
    "display_game(game_list)"
   ]
  },
  {
   "cell_type": "code",
   "execution_count": 8,
   "metadata": {
    "collapsed": false
   },
   "outputs": [
   ],
   "source": [
    "# get a position choice from user\n",
    "def position_choice():\n",
    "    choice = 'Wrong'\n",
    "    while choice not in ['0','1','2']: # user input will be a string and must be a choice from list\n",
    "        choice = input('Pick a postion (0,1,2): \\n')\n",
    "        if choice not in ['0','1','2']: # if user does not pick a correct position output an error message\n",
    "            print(f'Sorry {choice} is not a position')\n",
    "    return int(choice)"
   ]
  },
  {
   "cell_type": "code",
   "execution_count": 9,
   "metadata": {
    "cocalc": {
     "outputs": {
      "0": {
       "name": "input",
       "opts": {
        "password": false,
        "prompt": "Pick a postion (0,1,2): \n"
       },
       "output_type": "stream",
       "value": "5"
      },
      "1": {
       "name": "input",
       "opts": {
        "password": false,
        "prompt": "Pick a postion (0,1,2): \n"
       },
       "output_type": "stream"
      },
      "4": {
       "name": "input",
       "opts": {
        "password": false,
        "prompt": "Pick a postion (0,1,2): \n"
       },
       "output_type": "stream",
       "value": "3"
      },
      "5": {
       "name": "input",
       "opts": {
        "password": false,
        "prompt": "Pick a postion (0,1,2): \n"
       },
       "output_type": "stream"
      }
     }
    },
    "collapsed": false
   },
   "outputs": [
    {
     "name": "stdout",
     "output_type": "stream",
     "text": "Pick a postion (0,1,2): \n 5"
    },
    {
     "name": "stdout",
     "output_type": "stream",
     "text": "Pick a postion (0,1,2): \n "
    },
    {
     "name": "stdout",
     "output_type": "stream",
     "text": [
      "Sorry 5 is not a position\n"
     ],
     "value": "d"
    },
    {
     "name": "stdout",
     "output_type": "stream",
     "text": [
      "Sorry d is not a position\n"
     ]
    },
    {
     "name": "stdout",
     "output_type": "stream",
     "text": "Pick a postion (0,1,2): \n 3"
    },
    {
     "name": "stdout",
     "output_type": "stream",
     "text": "Pick a postion (0,1,2): \n "
    },
    {
     "name": "stdout",
     "output_type": "stream",
     "text": [
      "Sorry 3 is not a position\n"
     ],
     "value": "1"
    },
    {
     "data": {
      "text/plain": [
       "1"
      ]
     },
     "execution_count": 9,
     "metadata": {
     },
     "output_type": "execute_result"
    }
   ],
   "source": [
    "position_choice()"
   ]
  },
  {
   "cell_type": "code",
   "execution_count": 10,
   "metadata": {
    "collapsed": false
   },
   "outputs": [
   ],
   "source": [
    "# choose a replacement value\n",
    "def replacement_choice(game_list,position): # this function will use the game list and position\n",
    "    user_placement = input('Type a string to place at position selected: \\n')\n",
    "    game_list[position] = user_placement\n",
    "    return game_list"
   ]
  },
  {
   "cell_type": "code",
   "execution_count": 11,
   "metadata": {
    "cocalc": {
     "outputs": {
      "0": {
       "name": "input",
       "opts": {
        "password": false,
        "prompt": "Type a string to place at position selected: \n"
       },
       "output_type": "stream",
       "value": "test"
      }
     }
    },
    "collapsed": false
   },
   "outputs": [
    {
     "name": "stdout",
     "output_type": "stream",
     "text": "Type a string to place at position selected: \n test"
    },
    {
     "data": {
      "text/plain": [
       "[0, 'test', 2]"
      ]
     },
     "execution_count": 11,
     "metadata": {
     },
     "output_type": "execute_result"
    }
   ],
   "source": [
    "replacement_choice(game_list,1)"
   ]
  },
  {
   "cell_type": "code",
   "execution_count": 27,
   "metadata": {
    "collapsed": false
   },
   "outputs": [
   ],
   "source": [
    "# make sure user keeps playing\n",
    "def game_on_choice(game_list):\n",
    "    choice = 'wrong'\n",
    "    while choice not in ['Y','N']:\n",
    "        choice = input('Keep Playing? (Y or N)')\n",
    "        choice = choice.upper() # uppercase any selection the user input just incase they use lowercase\n",
    "        if choice not in ['Y','N']: # if choice does not equal Y or N give error message\n",
    "            print(f'Sorry \"{choice}\" is invalid choice! Please choose Y or N')\n",
    "    if choice == 'Y':\n",
    "        return True\n",
    "    else:\n",
    "        print(f'Sorry to see you go! Hope you had fun!\\nHere is your final list:\\n{game_list}')\n",
    "        return False"
   ]
  },
  {
   "cell_type": "code",
   "execution_count": 18,
   "metadata": {
    "cocalc": {
     "outputs": {
      "0": {
       "name": "input",
       "opts": {
        "password": false,
        "prompt": "Keep Playing? (Y or N)"
       },
       "output_type": "stream",
       "value": "yes"
      },
      "2": {
       "name": "input",
       "opts": {
        "password": false,
        "prompt": "Keep Playing? (Y or N)"
       },
       "output_type": "stream",
       "value": "y"
      }
     }
    },
    "collapsed": false
   },
   "outputs": [
    {
     "name": "stdout",
     "output_type": "stream",
     "text": "Keep Playing? (Y or N) yes"
    },
    {
     "name": "stdout",
     "output_type": "stream",
     "text": [
      "Sorry \"YES\" is invalid choice! Please choose Y or N\n"
     ]
    },
    {
     "name": "stdout",
     "output_type": "stream",
     "text": "Keep Playing? (Y or N) y"
    },
    {
     "data": {
      "text/plain": [
       "True"
      ]
     },
     "execution_count": 18,
     "metadata": {
     },
     "output_type": "execute_result"
    }
   ],
   "source": [
    "game_on_choice()"
   ]
  },
  {
   "cell_type": "code",
   "execution_count": 19,
   "metadata": {
    "cocalc": {
     "outputs": {
      "0": {
       "name": "input",
       "opts": {
        "password": false,
        "prompt": "Keep Playing? (Y or N)"
       },
       "output_type": "stream",
       "value": "no"
      },
      "2": {
       "name": "input",
       "opts": {
        "password": false,
        "prompt": "Keep Playing? (Y or N)"
       },
       "output_type": "stream",
       "value": "n"
      }
     }
    },
    "collapsed": false
   },
   "outputs": [
    {
     "name": "stdout",
     "output_type": "stream",
     "text": "Keep Playing? (Y or N) no"
    },
    {
     "name": "stdout",
     "output_type": "stream",
     "text": [
      "Sorry \"NO\" is invalid choice! Please choose Y or N\n"
     ]
    },
    {
     "name": "stdout",
     "output_type": "stream",
     "text": "Keep Playing? (Y or N) n"
    },
    {
     "data": {
      "text/plain": [
       "False"
      ]
     },
     "execution_count": 19,
     "metadata": {
     },
     "output_type": "execute_result"
    }
   ],
   "source": [
    "game_on_choice()"
   ]
  },
  {
   "cell_type": "code",
   "execution_count": 28,
   "metadata": {
    "cocalc": {
     "outputs": {
      "1": {
       "name": "input",
       "opts": {
        "password": false,
        "prompt": "Pick a postion (0,1,2): \n"
       },
       "output_type": "stream",
       "value": "1"
      },
      "2": {
       "name": "input",
       "opts": {
        "password": false,
        "prompt": "Type a string to place at position selected: \n"
       },
       "output_type": "stream",
       "value": "Fire"
      },
      "4": {
       "name": "input",
       "opts": {
        "password": false,
        "prompt": "Keep Playing? (Y or N)"
       },
       "output_type": "stream",
       "value": "y"
      },
      "6": {
       "name": "input",
       "opts": {
        "password": false,
        "prompt": "Pick a postion (0,1,2): \n"
       },
       "output_type": "stream",
       "value": "0"
      },
      "7": {
       "name": "input",
       "opts": {
        "password": false,
        "prompt": "Type a string to place at position selected: \n"
       },
       "output_type": "stream",
       "value": "On"
      },
      "9": {
       "name": "input",
       "opts": {
        "password": false,
        "prompt": "Keep Playing? (Y or N)"
       },
       "output_type": "stream",
       "value": "n"
      }
     }
    },
    "collapsed": false
   },
   "outputs": [
    {
     "name": "stdout",
     "output_type": "stream",
     "text": [
      "Here is the current list:\n",
      "[1, 2, 3]\n"
     ]
    },
    {
     "name": "stdout",
     "output_type": "stream",
     "text": "Pick a postion (0,1,2): \n 1"
    },
    {
     "name": "stdout",
     "output_type": "stream",
     "text": "Type a string to place at position selected: \n Fire"
    },
    {
     "name": "stdout",
     "output_type": "stream",
     "text": [
      "Here is the current list:\n",
      "[1, 'Fire', 3]\n"
     ]
    },
    {
     "name": "stdout",
     "output_type": "stream",
     "text": "Keep Playing? (Y or N) y"
    },
    {
     "name": "stdout",
     "output_type": "stream",
     "text": [
      "Here is the current list:\n",
      "[1, 'Fire', 3]\n"
     ]
    },
    {
     "name": "stdout",
     "output_type": "stream",
     "text": "Pick a postion (0,1,2): \n 0"
    },
    {
     "name": "stdout",
     "output_type": "stream",
     "text": "Type a string to place at position selected: \n On"
    },
    {
     "name": "stdout",
     "output_type": "stream",
     "text": [
      "Here is the current list:\n",
      "['On', 'Fire', 3]\n"
     ]
    },
    {
     "name": "stdout",
     "output_type": "stream",
     "text": "Keep Playing? (Y or N) n"
    },
    {
     "name": "stdout",
     "output_type": "stream",
     "text": [
      "Sorry to see you go! Hope you had fun!\n",
      "Here is your final list:\n",
      "['On', 'Fire', 3]\n"
     ]
    }
   ],
   "source": [
    "import time # import time to give a game a pause\n",
    "# create function that will play the game\n",
    "game_on = True\n",
    "game_list = [1,2,3]\n",
    "\n",
    "while game_on: # while game is True\n",
    "    display_game(game_list) # display game list function that shows the user the list\n",
    "    position = position_choice() # save the postion the user picks\n",
    "    game_list = replacement_choice(game_list,position) # input the user position pick and the game list // also update the returned game list\n",
    "    display_game(game_list) # this will display the new list that was created\n",
    "    time.sleep(1) # small pause is need for program to breathe!\n",
    "    game_on = game_on_choice(game_list) # user decides if they want to play game again\n"
   ]
  },
  {
   "cell_type": "code",
   "execution_count": 0,
   "metadata": {
    "collapsed": false
   },
   "outputs": [
   ],
   "source": [
   ]
  },
  {
   "cell_type": "code",
   "execution_count": 0,
   "metadata": {
    "collapsed": false
   },
   "outputs": [
   ],
   "source": [
   ]
  }
 ],
 "metadata": {
  "kernelspec": {
   "display_name": "Python 3 (system-wide)",
   "language": "python",
   "metadata": {
    "cocalc": {
     "description": "Python 3 programming language",
     "priority": 100,
     "url": "https://www.python.org/"
    }
   },
   "name": "python3",
   "resource_dir": "/ext/jupyter/kernels/python3"
  },
  "language_info": {
   "codemirror_mode": {
    "name": "ipython",
    "version": 3
   },
   "file_extension": ".py",
   "mimetype": "text/x-python",
   "name": "python",
   "nbconvert_exporter": "python",
   "pygments_lexer": "ipython3",
   "version": "3.8.10"
  }
 },
 "nbformat": 4,
 "nbformat_minor": 4
}